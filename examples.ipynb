{
 "cells": [
  {
   "cell_type": "code",
   "execution_count": null,
   "metadata": {},
   "outputs": [],
   "source": [
    "import yaml\n",
    "from pytorch_lightning.loggers import NeptuneLogger\n",
    "from Modules.train import DataModule, Model, get_trainer"
   ]
  },
  {
   "attachments": {},
   "cell_type": "markdown",
   "metadata": {},
   "source": [
    "# Training"
   ]
  },
  {
   "cell_type": "code",
   "execution_count": null,
   "metadata": {},
   "outputs": [],
   "source": [
    "%%script false --no-raise-error\n",
    "\n",
    "with open(\"Modules/config.yaml\", 'r') as stream:\n",
    "    PARAMS = yaml.safe_load(stream)\n",
    "    PARAMS = PARAMS['classifier']\n",
    "    print(PARAMS)\n",
    "\n",
    "neptune_logger = NeptuneLogger(\n",
    "        project=\"kaori/AISeed\",\n",
    "        # with_id=\"AIS-113\",\n",
    "        log_model_checkpoints=False,\n",
    "    )"
   ]
  },
  {
   "cell_type": "code",
   "execution_count": null,
   "metadata": {},
   "outputs": [],
   "source": [
    "%%script false --no-raise-error\n",
    "\n",
    "import albumentations as A\n",
    "from albumentations.pytorch import ToTensorV2\n",
    "\n",
    "# img_size = PARAMS['dataset_settings']['img_size']\n",
    "# transforms_img = A.Compose([\n",
    "#     A.RandomResizedCrop(img_size, img_size),  # Random crop and resize\n",
    "#     A.HorizontalFlip(),  # Random horizontal flip\n",
    "#     A.VerticalFlip(),  # Random vertical flip\n",
    "#     A.RandomBrightnessContrast(brightness_limit=0.3, contrast_limit=0.3, p=0.5),\n",
    "#     A.Normalize(mean=(0.485, 0.456, 0.406), std=(0.229, 0.224, 0.225)),\n",
    "#     ToTensorV2(),  # Convert to tensor\n",
    "# ])\n",
    "\n",
    "data = DataModule(PARAMS['dataset_settings'], PARAMS['training_settings'], [None, None])"
   ]
  },
  {
   "cell_type": "code",
   "execution_count": null,
   "metadata": {},
   "outputs": [],
   "source": [
    "%%script false --no-raise-error\n",
    "neptune_logger.log_hyperparams(params=PARAMS)\n",
    "model = Model(PARAMS=PARAMS)\n",
    "trainer = get_trainer(PARAMS['training_settings'], neptune_logger)\n",
    "# train\n",
    "trainer.fit(model, data)\n",
    "# test\n",
    "trainer.test(model, data)"
   ]
  },
  {
   "cell_type": "code",
   "execution_count": null,
   "metadata": {},
   "outputs": [],
   "source": [
    "# model = Model.load_from_checkpoint(\".neptune/Untitled/AIS-113/checkpoints/best_model_001.ckpt\")\n",
    "# trainer = get_trainer(PARAMS['training_settings'], neptune_logger)\n",
    "# # \n",
    "# trainer.test(model, data)"
   ]
  },
  {
   "attachments": {},
   "cell_type": "markdown",
   "metadata": {},
   "source": [
    "# Testing"
   ]
  },
  {
   "cell_type": "code",
   "execution_count": null,
   "metadata": {},
   "outputs": [],
   "source": [
    "# %%script false --no-raise-error\n",
    "import torch\n",
    "from torchvision.utils import draw_bounding_boxes, draw_segmentation_masks\n",
    "import os\n",
    "from torchvision import transforms\n",
    "\n",
    "with open(\"models/class_name.txt\", \"r\", encoding='utf-8') as f:\n",
    "    class_names = f.read().splitlines()\n",
    "\n",
    "PARAMS =  {\n",
    "    \"architect_settings\" : {\n",
    "            \"task\": \"None\",\n",
    "            \"name\": \"model-test\",\n",
    "            \"backbone\": {\n",
    "                    \"name\": \"selectnet-s\",\n",
    "                    \"is_full\": False,\n",
    "                    \"is_pretrained\": True,\n",
    "                    \"is_freeze\": False, \n",
    "            },\n",
    "            \"n_cls\": 2,\n",
    "            },\n",
    "    \"dataset_settings\": {\n",
    "            \n",
    "            },\n",
    "    \"training_settings\":{\n",
    "    \n",
    "    }\n",
    "}\n",
    "\n",
    "model_list = [name.split('.')[0] for name in os.listdir(\"models\") if name.endswith('ckpt')]\n",
    "model_list += [\"fcn-m\", \"resnet-s\", \"fasterrcnn-s\", \"maskrcnn-s\"]\n",
    "inv_normalize = transforms.Normalize(\n",
    "    mean=[-0.485/0.229, -0.456/0.224, -0.406/0.255],\n",
    "    std=[1/0.229, 1/0.224, 1/0.255]\n",
    ")\n",
    "\n",
    "def predict(image, model_choice):\n",
    "    labels, detection = None, None\n",
    "    if(model_choice in [\"fcn-m\", \"resnet-s\", \"fasterrcnn-s\", \"maskrcnn-s\"]):\n",
    "        PARAMS['architect_settings']['backbone']['is_full'] = True\n",
    "        PARAMS['architect_settings']['backbone']['name'] = model_choice\n",
    "        if(model_choice in [\"fasterrcnn-s\", \"maskrcnn-s\"]):\n",
    "            PARAMS['task'] = 'detection'\n",
    "        elif(model_choice == \"fcn-m\"):\n",
    "            PARAMS['task'] = 'segmentation'\n",
    "        else:\n",
    "            PARAMS['task'] = 'classification'\n",
    "        model = Model(PARAMS)\n",
    "    else:\n",
    "        model = Model.load_from_checkpoint(f\"models/{model_choice}.ckpt\").cpu()\n",
    "    model.eval()\n",
    "    transforms = model.model.preprocess\n",
    "    tensor_image = transforms(image)\n",
    "    with torch.no_grad():\n",
    "        y_hat = model(tensor_image.unsqueeze(0))\n",
    "        if(model.task == \"classification\"):\n",
    "            preds = torch.softmax(y_hat, dim=-1).tolist()\n",
    "            labels = {class_names[k]: float(v) for k, v in enumerate(preds[0][:-1])}\n",
    "        elif(model.task == \"segmentation\"):\n",
    "            num_classes = y_hat.shape[1]\n",
    "            masks = y_hat[0]\n",
    "            classes_masks = masks.argmax(0) == torch.arange(num_classes)[:, None, None]\n",
    "            tensor_image = inv_normalize(tensor_image)\n",
    "            detection = draw_segmentation_masks((tensor_image * 255.).to(torch.uint8), \n",
    "                                              masks=classes_masks, alpha=.6)\n",
    "            detection = detection.numpy().transpose(1, 2, 0) / 255.\n",
    "        elif(model.task == \"detection\"):\n",
    "            if(\"maskrcnn\" in model_choice):\n",
    "                boolean_masks = [out['masks'][out['scores'] > .75] > 0.5\n",
    "                                for out in y_hat][0]\n",
    "                detection = draw_segmentation_masks((tensor_image * 255.).to(torch.uint8),\n",
    "                                                    boolean_masks.squeeze(1), alpha=0.8)\n",
    "            else:\n",
    "                detection = draw_bounding_boxes((tensor_image * 255.).to(torch.uint8), \n",
    "                                                    boxes=y_hat[0][\"boxes\"][:5],\n",
    "                                                    colors=\"red\",\n",
    "                                                    width=5)\n",
    "            detection = detection.numpy().transpose(1, 2, 0) / 255.\n",
    "\n",
    "    return labels, detection"
   ]
  },
  {
   "cell_type": "code",
   "execution_count": null,
   "metadata": {},
   "outputs": [],
   "source": [
    "# %%script false --no-raise-error\n",
    "\n",
    "import gradio as gr\n",
    "\n",
    "title = \"Application Demo \"\n",
    "description = \"# A Demo of Wrapping Pretrained Networks\"\n",
    "example_list = [[\"examples/\" + example] for example in os.listdir(\"examples\")]\n",
    "\n",
    "\n",
    "with gr.Blocks() as demo:\n",
    "    demo.title = title\n",
    "    gr.Markdown(description)\n",
    "    with gr.Row():\n",
    "        with gr.Column():\n",
    "            model = gr.Dropdown(model_list, label=\"Select Model\", interactive=True)\n",
    "            im = gr.Image(type=\"pil\", label=\"input image\")\n",
    "            label_conv = gr.Label(label=\"Predictions\", num_top_classes=4)\n",
    "        with gr.Column():\n",
    "            im_detection = gr.Image(type=\"pil\", label=\"Detection\")\n",
    "            btn = gr.Button(value=\"predict\")\n",
    "    btn.click(predict, inputs=[im, model], outputs=[label_conv, im_detection])\n",
    "    gr.Examples(examples=example_list, inputs=[im, model], outputs=[label_conv, im_detection])\n",
    "      \n",
    "\n",
    "demo.launch(share=True)"
   ]
  }
 ],
 "metadata": {
  "kernelspec": {
   "display_name": "Capsule",
   "language": "python",
   "name": "python3"
  },
  "language_info": {
   "codemirror_mode": {
    "name": "ipython",
    "version": 3
   },
   "file_extension": ".py",
   "mimetype": "text/x-python",
   "name": "python",
   "nbconvert_exporter": "python",
   "pygments_lexer": "ipython3",
   "version": "3.9.16"
  },
  "orig_nbformat": 4
 },
 "nbformat": 4,
 "nbformat_minor": 2
}
